{
 "cells": [
  {
   "cell_type": "markdown",
   "metadata": {},
   "source": [
    "# Imports"
   ]
  },
  {
   "cell_type": "code",
   "execution_count": 1,
   "metadata": {},
   "outputs": [],
   "source": [
    "import math\n",
    "import pandas as pd\n",
    "import pennylane as qml\n",
    "\n",
    "from matplotlib import pyplot as plt\n",
    "from pennylane import numpy as np\n",
    "from pennylane.templates import AmplitudeEmbedding, AngleEmbedding\n",
    "from sklearn.datasets import load_iris\n",
    "from sklearn.model_selection import train_test_split\n",
    "from sklearn.preprocessing import StandardScaler"
   ]
  },
  {
   "cell_type": "markdown",
   "metadata": {},
   "source": [
    "# Model Params"
   ]
  },
  {
   "cell_type": "code",
   "execution_count": 2,
   "metadata": {},
   "outputs": [],
   "source": [
    "np.random.seed(42)\n",
    "initial_params = np.random.random([21])\n",
    "\n",
    "CLASS_TO_IGNORE = 0  # third class, 0, 1, 2\n",
    "INITIALIZATION_METHOD = 'Angle'\n",
    "EPOCHS = 10\n",
    "TEST_SIZE = 0.2\n",
    "STEP_SIZE = 0.3\n",
    "STEPS = int((1-TEST_SIZE)*100*EPOCHS)"
   ]
  },
  {
   "cell_type": "markdown",
   "metadata": {},
   "source": [
    "# Import dataset"
   ]
  },
  {
   "cell_type": "code",
   "execution_count": 3,
   "metadata": {},
   "outputs": [],
   "source": [
    "X, y = load_iris(return_X_y=True)\n",
    "\n",
    "if CLASS_TO_IGNORE == 0:\n",
    "    # Drop first class\n",
    "    X = X[50:]\n",
    "    y = y[50:]\n",
    "    y_scaled = np.where(y == 1, -1, y)\n",
    "    y_scaled = np.where(y_scaled == 2, 1, y_scaled)\n",
    "\n",
    "elif CLASS_TO_IGNORE == 1:\n",
    "    # Drop second class\n",
    "    X = np.delete(X, range(50, 100))\n",
    "    y = np.delete(y, range(50, 100))\n",
    "    y_scaled = np.where(y == 0, -1, y)\n",
    "    y_scaled = np.where(y_scaled == 2, 1, y_scaled)\n",
    "\n",
    "else:\n",
    "    # Drop third class\n",
    "    X = X[:100]\n",
    "    y = y[:100]"
   ]
  },
  {
   "cell_type": "code",
   "execution_count": 4,
   "metadata": {},
   "outputs": [],
   "source": [
    "scaler = StandardScaler().fit(X)\n",
    "X_scaled = scaler.transform(X)\n",
    "\n",
    "X_train, X_test, y_train, y_test = train_test_split(X_scaled, y_scaled, test_size=TEST_SIZE, shuffle=True)"
   ]
  },
  {
   "cell_type": "markdown",
   "metadata": {},
   "source": [
    "# Circuit creation"
   ]
  },
  {
   "cell_type": "code",
   "execution_count": 5,
   "metadata": {},
   "outputs": [],
   "source": [
    "device = qml.device(\"default.qubit\", wires=4)"
   ]
  },
  {
   "cell_type": "code",
   "execution_count": 6,
   "metadata": {},
   "outputs": [],
   "source": [
    "@qml.qnode(device)\n",
    "def circuit(features, params):\n",
    "    # Load state\n",
    "    if INITIALIZATION_METHOD == 'Amplitude':\n",
    "        AmplitudeEmbedding(features=features, wires=range(4), normalize=True, pad_with=0.)\n",
    "    else:\n",
    "        AngleEmbedding(features=features, wires=range(4), rotation='Y')\n",
    "\n",
    "    # First layer\n",
    "    qml.U3(params[0], params[1], params[2], wires=0)\n",
    "    qml.U3(params[3], params[4], params[5], wires=1)\n",
    "    qml.U3(params[6], params[7], params[8], wires=2)\n",
    "    qml.U3(params[9], params[10], params[11], wires=3)\n",
    "    qml.CNOT(wires=[0, 1])\n",
    "    qml.CNOT(wires=[3, 2])\n",
    "\n",
    "    # Second layer\n",
    "    qml.U3(params[12], params[13], params[14], wires=1)\n",
    "    qml.U3(params[15], params[16], params[17], wires=2)\n",
    "    qml.CNOT(wires=[1, 2])\n",
    "\n",
    "    # Third layer\n",
    "    qml.U3(params[18], params[19], params[20], wires=2)\n",
    "\n",
    "    # Measurement\n",
    "    return qml.expval(qml.PauliZ(2))"
   ]
  },
  {
   "cell_type": "markdown",
   "metadata": {},
   "source": [
    "## Circuit example"
   ]
  },
  {
   "cell_type": "code",
   "execution_count": 7,
   "metadata": {},
   "outputs": [
    {
     "name": "stdout",
     "output_type": "stream",
     "text": [
      "Inital parameters: [0.37454012 0.95071431 0.73199394 0.59865848 0.15601864 0.15599452\n",
      " 0.05808361 0.86617615 0.60111501 0.70807258 0.02058449 0.96990985\n",
      " 0.83244264 0.21233911 0.18182497 0.18340451 0.30424224 0.52475643\n",
      " 0.43194502 0.29122914 0.61185289]\n",
      "\n",
      "Example features: [ 0.36087292 -0.21746808 -0.37251647 -0.41643072]\n",
      "\n",
      "Expectation value: 0.025424698404981183\n",
      "\n",
      " 0: ──RY(0.361)───Rot(0.732, 0.375, -0.732)───Rϕ(0.732)──Rϕ(0.951)───╭C────────────────────────────────────────────────────────────────────────────────────────────────────────┤     \n",
      " 1: ──RY(-0.217)──Rot(0.156, 0.599, -0.156)───Rϕ(0.156)──Rϕ(0.156)───╰X──Rot(0.182, 0.832, -0.182)──Rϕ(0.182)──Rϕ(0.212)──╭C───────────────────────────────────────────────────┤     \n",
      " 2: ──RY(-0.373)──Rot(0.601, 0.0581, -0.601)──Rϕ(0.601)──Rϕ(0.866)───╭X──Rot(0.525, 0.183, -0.525)──Rϕ(0.525)──Rϕ(0.304)──╰X──Rot(0.612, 0.432, -0.612)──Rϕ(0.612)──Rϕ(0.291)──┤ ⟨Z⟩ \n",
      " 3: ──RY(-0.416)──Rot(0.97, 0.708, -0.97)─────Rϕ(0.97)───Rϕ(0.0206)──╰C────────────────────────────────────────────────────────────────────────────────────────────────────────┤     \n",
      "\n"
     ]
    }
   ],
   "source": [
    "features = X_train[0]\n",
    "print(f\"Inital parameters: {initial_params}\\n\")\n",
    "print(f\"Example features: {features}\\n\")\n",
    "print(f\"Expectation value: {circuit(features, initial_params)}\\n\")\n",
    "print(circuit.draw())"
   ]
  },
  {
   "cell_type": "markdown",
   "metadata": {},
   "source": [
    "# Training"
   ]
  },
  {
   "cell_type": "code",
   "execution_count": 8,
   "metadata": {},
   "outputs": [],
   "source": [
    "params = initial_params\n",
    "opt = qml.GradientDescentOptimizer(stepsize=STEP_SIZE)\n",
    "\n",
    "for i in range(STEPS):\n",
    "    features = X_train[i%len(X_train)]\n",
    "    expected_value = y_train[i%len(X_train)]\n",
    "\n",
    "    def cost(circuit_params):\n",
    "        value = circuit(features, circuit_params)\n",
    "        return ((expected_value - value) ** 2)/len(X_train)\n",
    "\n",
    "    params = opt.step(cost, params)"
   ]
  },
  {
   "cell_type": "code",
   "execution_count": 9,
   "metadata": {},
   "outputs": [
    {
     "name": "stdout",
     "output_type": "stream",
     "text": [
      "Optimized rotation angles: [ 0.37536286  0.95071431  0.73605952  0.62771828  0.12770486  0.13798641\n",
      " -0.1116675   1.44329807  1.1918834   0.71712776  0.02058449  0.7871738\n",
      "  0.94628438  0.21233911  0.16269488  0.21594234  0.12443645  0.37312015\n",
      "  1.15089495  0.29122914  0.31363105]\n"
     ]
    }
   ],
   "source": [
    "print(\"Optimized rotation angles: {}\".format(params))"
   ]
  },
  {
   "cell_type": "markdown",
   "metadata": {},
   "source": [
    "# Testing"
   ]
  },
  {
   "cell_type": "code",
   "execution_count": 10,
   "metadata": {},
   "outputs": [],
   "source": [
    "prediction_class = np.array([])\n",
    "prediction_values = np.array([])\n",
    "for example, example_class in zip(X_test, y_test):\n",
    "    predicted_value = circuit(example, params)\n",
    "    prediction_values = np.append(prediction_values, predicted_value)\n",
    "\n",
    "    if predicted_value <= 0.5:\n",
    "        prediction_class = np.append(prediction_class, 0)\n",
    "    else:\n",
    "        prediction_class = np.append(prediction_class, 1)"
   ]
  },
  {
   "cell_type": "code",
   "execution_count": 11,
   "metadata": {},
   "outputs": [
    {
     "data": {
      "text/plain": [
       "<matplotlib.lines.Line2D at 0x7f01b012c850>"
      ]
     },
     "execution_count": 11,
     "metadata": {},
     "output_type": "execute_result"
    },
    {
     "data": {
      "image/png": "[encoded data removed]",
      "text/plain": [
       "<Figure size 432x288 with 1 Axes>"
      ]
     },
     "metadata": {
      "needs_background": "light"
     },
     "output_type": "display_data"
    }
   ],
   "source": [
    "plt.xlim([-1, 20])\n",
    "plt.plot(y_test, 'o')\n",
    "plt.plot(prediction_values, 'x')\n",
    "plt.axhline(y=0, color='r', linestyle='-')"
   ]
  },
  {
   "cell_type": "code",
   "execution_count": null,
   "metadata": {},
   "outputs": [],
   "source": []
  }
 ],
 "metadata": {
  "kernelspec": {
   "display_name": "Python 3",
   "language": "python",
   "name": "python3"
  },
  "language_info": {
   "codemirror_mode": {
    "name": "ipython",
    "version": 3
   },
   "file_extension": ".py",
   "mimetype": "text/x-python",
   "name": "python",
   "nbconvert_exporter": "python",
   "pygments_lexer": "ipython3",
   "version": "3.8.5"
  }
 },
 "nbformat": 4,
 "nbformat_minor": 4
}
