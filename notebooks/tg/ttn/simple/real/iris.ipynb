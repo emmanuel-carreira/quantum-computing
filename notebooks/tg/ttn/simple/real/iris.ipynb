{
 "cells": [
  {
   "cell_type": "markdown",
   "metadata": {},
   "source": [
    "# Imports"
   ]
  },
  {
   "cell_type": "code",
   "execution_count": 1,
   "metadata": {},
   "outputs": [],
   "source": [
    "import math\n",
    "import pandas as pd\n",
    "import pennylane as qml\n",
    "\n",
    "from matplotlib import pyplot as plt\n",
    "from pennylane import numpy as np\n",
    "from pennylane.templates import AmplitudeEmbedding, AngleEmbedding\n",
    "from sklearn.datasets import load_iris\n",
    "from sklearn.model_selection import train_test_split\n",
    "from sklearn.preprocessing import StandardScaler"
   ]
  },
  {
   "cell_type": "markdown",
   "metadata": {},
   "source": [
    "# Model Params"
   ]
  },
  {
   "cell_type": "code",
   "execution_count": 2,
   "metadata": {},
   "outputs": [],
   "source": [
    "np.random.seed(42)\n",
    "initial_params = np.random.random([7])\n",
    "\n",
    "CLASS_TO_IGNORE = 0  # third class, 0, 1, 2\n",
    "INITIALIZATION_METHOD = 'Angle'\n",
    "EPOCHS = 10\n",
    "TEST_SIZE = 0.2\n",
    "STEP_SIZE = 0.3\n",
    "STEPS = int((1-TEST_SIZE)*100*EPOCHS)"
   ]
  },
  {
   "cell_type": "markdown",
   "metadata": {},
   "source": [
    "# Import dataset"
   ]
  },
  {
   "cell_type": "code",
   "execution_count": 3,
   "metadata": {},
   "outputs": [],
   "source": [
    "X, y = load_iris(return_X_y=True)\n",
    "\n",
    "if CLASS_TO_IGNORE == 0:\n",
    "    # Drop first class\n",
    "    X = X[50:]\n",
    "    y = y[50:]\n",
    "    y_scaled = np.where(y == 1, -1, y)\n",
    "    y_scaled = np.where(y_scaled == 2, 1, y_scaled)\n",
    "\n",
    "elif CLASS_TO_IGNORE == 1:\n",
    "    # Drop second class\n",
    "    X = np.delete(X, range(50, 100))\n",
    "    y = np.delete(y, range(50, 100))\n",
    "    y_scaled = np.where(y == 0, -1, y)\n",
    "    y_scaled = np.where(y_scaled == 2, 1, y_scaled)\n",
    "\n",
    "else:\n",
    "    # Drop third class\n",
    "    X = X[:100]\n",
    "    y = y[:100]"
   ]
  },
  {
   "cell_type": "code",
   "execution_count": 4,
   "metadata": {},
   "outputs": [],
   "source": [
    "scaler = StandardScaler().fit(X)\n",
    "X_scaled = scaler.transform(X)\n",
    "\n",
    "X_train, X_test, y_train, y_test = train_test_split(X_scaled, y_scaled, test_size=TEST_SIZE, shuffle=True)"
   ]
  },
  {
   "cell_type": "markdown",
   "metadata": {},
   "source": [
    "# Circuit creation"
   ]
  },
  {
   "cell_type": "code",
   "execution_count": 5,
   "metadata": {},
   "outputs": [],
   "source": [
    "device = qml.device(\"default.qubit\", wires=4)"
   ]
  },
  {
   "cell_type": "code",
   "execution_count": 6,
   "metadata": {},
   "outputs": [],
   "source": [
    "@qml.qnode(device)\n",
    "def circuit(features, params):\n",
    "    # Load state\n",
    "    if INITIALIZATION_METHOD == 'Amplitude':\n",
    "        AmplitudeEmbedding(features=features, wires=range(4), normalize=True, pad_with=0.)\n",
    "    else:\n",
    "        AngleEmbedding(features=features, wires=range(4), rotation='Y')\n",
    "\n",
    "    # First layer\n",
    "    qml.RY(params[0], wires=0)\n",
    "    qml.RY(params[1], wires=1)\n",
    "    qml.RY(params[2], wires=2)\n",
    "    qml.RY(params[3], wires=3)\n",
    "    qml.CNOT(wires=[0, 1])\n",
    "    qml.CNOT(wires=[3, 2])\n",
    "\n",
    "    # Second layer\n",
    "    qml.RY(params[4], wires=1)\n",
    "    qml.RY(params[5], wires=2)\n",
    "    qml.CNOT(wires=[1, 2])\n",
    "\n",
    "    # Third layer\n",
    "    qml.RY(params[6], wires=2)\n",
    "\n",
    "    # Measurement\n",
    "    return qml.expval(qml.PauliZ(2))"
   ]
  },
  {
   "cell_type": "markdown",
   "metadata": {},
   "source": [
    "## Circuit example"
   ]
  },
  {
   "cell_type": "code",
   "execution_count": 7,
   "metadata": {},
   "outputs": [
    {
     "name": "stdout",
     "output_type": "stream",
     "text": [
      "Inital parameters: [0.37454012 0.95071431 0.73199394 0.59865848 0.15601864 0.15599452\n",
      " 0.05808361]\n",
      "\n",
      "Example features: [0.05761837 1.59476592 0.84485761 1.71304456]\n",
      "\n",
      "Expectation value: 0.06793688976770845\n",
      "\n",
      " 0: ──RY(0.0576)──RY(0.375)──╭C─────────────────────────────┤     \n",
      " 1: ──RY(1.59)────RY(0.951)──╰X──RY(0.156)──╭C──────────────┤     \n",
      " 2: ──RY(0.845)───RY(0.732)──╭X──RY(0.156)──╰X──RY(0.0581)──┤ ⟨Z⟩ \n",
      " 3: ──RY(1.71)────RY(0.599)──╰C─────────────────────────────┤     \n",
      "\n"
     ]
    }
   ],
   "source": [
    "features = X_train[0]\n",
    "print(f\"Inital parameters: {initial_params}\\n\")\n",
    "print(f\"Example features: {features}\\n\")\n",
    "print(f\"Expectation value: {circuit(features, initial_params)}\\n\")\n",
    "print(circuit.draw())"
   ]
  },
  {
   "cell_type": "markdown",
   "metadata": {},
   "source": [
    "# Training"
   ]
  },
  {
   "cell_type": "code",
   "execution_count": 8,
   "metadata": {},
   "outputs": [],
   "source": [
    "params = initial_params\n",
    "opt = qml.GradientDescentOptimizer(stepsize=STEP_SIZE)\n",
    "\n",
    "for i in range(STEPS):\n",
    "    features = X_train[i%len(X_train)]\n",
    "    expected_value = y_train[i%len(X_train)]\n",
    "\n",
    "    def cost(circuit_params):\n",
    "        value = circuit(features, circuit_params)\n",
    "        return ((expected_value - value) ** 2)/len(X_train)\n",
    "\n",
    "    params = opt.step(cost, params)"
   ]
  },
  {
   "cell_type": "code",
   "execution_count": 9,
   "metadata": {},
   "outputs": [
    {
     "name": "stdout",
     "output_type": "stream",
     "text": [
      "Optimized rotation angles: [ 0.25251929  1.38801684  0.26821729  0.51845415  0.72325095 -0.14860405\n",
      " -1.09383148]\n"
     ]
    }
   ],
   "source": [
    "print(\"Optimized rotation angles: {}\".format(params))"
   ]
  },
  {
   "cell_type": "markdown",
   "metadata": {},
   "source": [
    "# Testing"
   ]
  },
  {
   "cell_type": "code",
   "execution_count": 10,
   "metadata": {},
   "outputs": [],
   "source": [
    "prediction_class = np.array([])\n",
    "prediction_values = np.array([])\n",
    "for example, example_class in zip(X_test, y_test):\n",
    "    predicted_value = circuit(example, params)\n",
    "    prediction_values = np.append(prediction_values, predicted_value)\n",
    "\n",
    "    if predicted_value <= 0.5:\n",
    "        prediction_class = np.append(prediction_class, 0)\n",
    "    else:\n",
    "        prediction_class = np.append(prediction_class, 1)"
   ]
  },
  {
   "cell_type": "code",
   "execution_count": 11,
   "metadata": {},
   "outputs": [
    {
     "data": {
      "text/plain": [
       "<matplotlib.lines.Line2D at 0x7f9c03898c40>"
      ]
     },
     "execution_count": 11,
     "metadata": {},
     "output_type": "execute_result"
    },
    {
     "data": {
      "image/png": "[encoded data removed]",
      "text/plain": [
       "<Figure size 432x288 with 1 Axes>"
      ]
     },
     "metadata": {
      "needs_background": "light"
     },
     "output_type": "display_data"
    }
   ],
   "source": [
    "plt.xlim([-1, 20])\n",
    "plt.plot(y_test, 'o')\n",
    "plt.plot(prediction_values, 'x')\n",
    "plt.axhline(y=0, color='r', linestyle='-')"
   ]
  },
  {
   "cell_type": "code",
   "execution_count": null,
   "metadata": {},
   "outputs": [],
   "source": []
  }
 ],
 "metadata": {
  "kernelspec": {
   "display_name": "Python 3",
   "language": "python",
   "name": "python3"
  },
  "language_info": {
   "codemirror_mode": {
    "name": "ipython",
    "version": 3
   },
   "file_extension": ".py",
   "mimetype": "text/x-python",
   "name": "python",
   "nbconvert_exporter": "python",
   "pygments_lexer": "ipython3",
   "version": "3.8.5"
  }
 },
 "nbformat": 4,
 "nbformat_minor": 4
}
