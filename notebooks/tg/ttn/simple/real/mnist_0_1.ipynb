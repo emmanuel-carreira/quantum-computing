{
 "cells": [
  {
   "cell_type": "markdown",
   "metadata": {},
   "source": [
    "# Imports"
   ]
  },
  {
   "cell_type": "code",
   "execution_count": 37,
   "metadata": {},
   "outputs": [],
   "source": [
    "import math\n",
    "import pandas as pd\n",
    "import pennylane as qml\n",
    "\n",
    "from matplotlib import pyplot as plt\n",
    "from pennylane import numpy as np\n",
    "from pennylane.templates import AmplitudeEmbedding, AngleEmbedding\n",
    "from sklearn.datasets import load_iris\n",
    "from sklearn.decomposition import PCA\n",
    "from sklearn.model_selection import train_test_split\n",
    "from sklearn.preprocessing import StandardScaler"
   ]
  },
  {
   "cell_type": "markdown",
   "metadata": {},
   "source": [
    "# Model Params"
   ]
  },
  {
   "cell_type": "code",
   "execution_count": 38,
   "metadata": {},
   "outputs": [],
   "source": [
    "np.random.seed(42)\n",
    "initial_params = np.random.random([14])\n",
    "\n",
    "INITIALIZATION_METHOD = 'Angle'\n",
    "BATCH_SIZE = 20\n",
    "EPOCHS = 200\n",
    "TEST_SIZE = 0.2\n",
    "STEP_SIZE = 0.01"
   ]
  },
  {
   "cell_type": "markdown",
   "metadata": {},
   "source": [
    "# Fetch Dataset"
   ]
  },
  {
   "cell_type": "code",
   "execution_count": 39,
   "metadata": {},
   "outputs": [],
   "source": [
    "from sklearn.datasets import fetch_openml\n",
    "mnist = fetch_openml('mnist_784')"
   ]
  },
  {
   "cell_type": "markdown",
   "metadata": {},
   "source": [
    "# Import dataset"
   ]
  },
  {
   "cell_type": "code",
   "execution_count": 40,
   "metadata": {},
   "outputs": [],
   "source": [
    "examples = mnist.data\n",
    "classes = mnist.target\n",
    "\n",
    "x = []\n",
    "y = []\n",
    "for (example, label) in zip(examples, classes):\n",
    "    if label == \"0\":\n",
    "        x.append(example)\n",
    "        y.append(-1)\n",
    "    elif label == \"1\":\n",
    "        x.append(example)\n",
    "        y.append(1)"
   ]
  },
  {
   "cell_type": "code",
   "execution_count": 41,
   "metadata": {},
   "outputs": [],
   "source": [
    "x = np.array(x)\n",
    "y = np.array(y)\n",
    "\n",
    "# Normalize pixels values\n",
    "x = x / 255\n",
    "\n",
    "X_train, X_test, y_train, y_test = train_test_split(x, y, test_size=TEST_SIZE, shuffle=True)"
   ]
  },
  {
   "cell_type": "code",
   "execution_count": 42,
   "metadata": {},
   "outputs": [],
   "source": [
    "pca = PCA(n_components=8)\n",
    "pca.fit(X_train)\n",
    "X_train = pca.transform(X_train)\n",
    "X_test = pca.transform(X_test)"
   ]
  },
  {
   "cell_type": "markdown",
   "metadata": {},
   "source": [
    "# Circuit creation"
   ]
  },
  {
   "cell_type": "code",
   "execution_count": 43,
   "metadata": {},
   "outputs": [],
   "source": [
    "device = qml.device(\"default.qubit\", wires=8)"
   ]
  },
  {
   "cell_type": "code",
   "execution_count": 44,
   "metadata": {},
   "outputs": [],
   "source": [
    "@qml.qnode(device)\n",
    "def circuit(features, params):\n",
    "    # Load state\n",
    "    if INITIALIZATION_METHOD == 'Amplitude':\n",
    "        AmplitudeEmbedding(features=features, wires=range(8), normalize=True, pad_with=0.)\n",
    "    else:\n",
    "        AngleEmbedding(features=features, wires=range(8), rotation='Y')\n",
    "\n",
    "    # First layer\n",
    "    qml.RY(params[0], wires=0)\n",
    "    qml.RY(params[1], wires=1)\n",
    "    qml.CNOT(wires=[0, 1])\n",
    "    qml.RY(params[2], wires=2)\n",
    "    qml.RY(params[3], wires=3)\n",
    "    qml.CNOT(wires=[2, 3])\n",
    "    qml.RY(params[4], wires=4)\n",
    "    qml.RY(params[5], wires=5)\n",
    "    qml.CNOT(wires=[5, 4])\n",
    "    qml.RY(params[6], wires=6)\n",
    "    qml.RY(params[7], wires=7)\n",
    "    qml.CNOT(wires=[7, 6])\n",
    "\n",
    "    # Second layer\n",
    "    qml.RY(params[8], wires=1)\n",
    "    qml.RY(params[9], wires=2)\n",
    "    qml.CNOT(wires=[1, 2])\n",
    "    qml.RY(params[10], wires=5)\n",
    "    qml.RY(params[11], wires=6)\n",
    "    qml.CNOT(wires=[6, 5])\n",
    "\n",
    "    # Third layer\n",
    "    qml.RY(params[12], wires=2)\n",
    "    qml.RY(params[13], wires=5)\n",
    "    qml.CNOT(wires=[2, 5])\n",
    "\n",
    "    # Measurement\n",
    "    return qml.expval(qml.PauliZ(4))"
   ]
  },
  {
   "cell_type": "markdown",
   "metadata": {},
   "source": [
    "## Circuit example"
   ]
  },
  {
   "cell_type": "code",
   "execution_count": 45,
   "metadata": {},
   "outputs": [
    {
     "name": "stdout",
     "output_type": "stream",
     "text": [
      "Inital parameters: [0.37454012 0.95071431 0.73199394 0.59865848 0.15601864 0.15599452\n",
      " 0.05808361 0.86617615 0.60111501 0.70807258 0.02058449 0.96990985\n",
      " 0.83244264 0.21233911]\n",
      "\n",
      "Example features: [ 7.06373117  0.09482593 -0.14447133 -3.17356484  1.51594089  1.10768911\n",
      "  0.77324155 -0.67752215]\n",
      "\n",
      "Expectation value: -0.030530278800912136\n",
      "\n",
      " 0: ──RY(7.06)────RY(0.375)───╭C─────────────────────────────────┤     \n",
      " 1: ──RY(0.0948)──RY(0.951)───╰X──RY(0.601)───╭C─────────────────┤     \n",
      " 2: ──RY(-0.144)──RY(0.732)───╭C──RY(0.708)───╰X──RY(0.832)──╭C──┤     \n",
      " 3: ──RY(-3.17)───RY(0.599)───╰X─────────────────────────────│───┤     \n",
      " 4: ──RY(1.52)────RY(0.156)───╭X─────────────────────────────│───┤ ⟨Z⟩ \n",
      " 5: ──RY(1.11)────RY(0.156)───╰C──RY(0.0206)──╭X──RY(0.212)──╰X──┤     \n",
      " 6: ──RY(0.773)───RY(0.0581)──╭X──RY(0.97)────╰C─────────────────┤     \n",
      " 7: ──RY(-0.678)──RY(0.866)───╰C─────────────────────────────────┤     \n",
      "\n"
     ]
    }
   ],
   "source": [
    "features = X_train[0]\n",
    "print(f\"Inital parameters: {initial_params}\\n\")\n",
    "print(f\"Example features: {features}\\n\")\n",
    "print(f\"Expectation value: {circuit(features, initial_params)}\\n\")\n",
    "print(circuit.draw())"
   ]
  },
  {
   "cell_type": "markdown",
   "metadata": {},
   "source": [
    "# Training"
   ]
  },
  {
   "cell_type": "code",
   "execution_count": 46,
   "metadata": {},
   "outputs": [
    {
     "name": "stdout",
     "output_type": "stream",
     "text": [
      "epoch 0\n",
      "epoch 10\n",
      "epoch 20\n",
      "epoch 30\n",
      "epoch 40\n",
      "epoch 50\n",
      "epoch 60\n",
      "epoch 70\n",
      "epoch 80\n",
      "epoch 90\n",
      "epoch 100\n",
      "epoch 110\n",
      "epoch 120\n",
      "epoch 130\n",
      "epoch 140\n",
      "epoch 150\n",
      "epoch 160\n",
      "epoch 170\n",
      "epoch 180\n",
      "epoch 190\n"
     ]
    }
   ],
   "source": [
    "params = initial_params\n",
    "opt = qml.AdamOptimizer(stepsize=STEP_SIZE)\n",
    "STEPS = BATCH_SIZE*EPOCHS\n",
    "\n",
    "for i in range(STEPS):\n",
    "    features = X_train[i%len(X_train)]\n",
    "    expected_value = y_train[i%len(X_train)]\n",
    "\n",
    "    def cost(circuit_params):\n",
    "        value = circuit(features, circuit_params)\n",
    "        return ((expected_value - value) ** 2)/len(X_train)\n",
    "\n",
    "    params = opt.step(cost, params)\n",
    "\n",
    "    if i % 200 == 0:\n",
    "        print(f\"epoch {10*i//200}\")"
   ]
  },
  {
   "cell_type": "code",
   "execution_count": 47,
   "metadata": {},
   "outputs": [
    {
     "name": "stdout",
     "output_type": "stream",
     "text": [
      "Optimized rotation angles: [ 0.37454012  0.95071431  0.73199394  0.59865848 -1.42718851  1.28873107\n",
      "  0.05808361  0.86617615  0.60111501  0.70807258  0.02058449  0.96990985\n",
      "  0.83244264  0.21233911]\n"
     ]
    }
   ],
   "source": [
    "print(\"Optimized rotation angles: {}\".format(params))"
   ]
  },
  {
   "cell_type": "markdown",
   "metadata": {},
   "source": [
    "# Testing"
   ]
  },
  {
   "cell_type": "code",
   "execution_count": 48,
   "metadata": {},
   "outputs": [],
   "source": [
    "prediction_class = np.array([])\n",
    "prediction_values = np.array([])\n",
    "class_errors = 0\n",
    "for example, example_class in zip(X_test, y_test):\n",
    "    predicted_value = circuit(example, params)\n",
    "    prediction_values = np.append(prediction_values, predicted_value)\n",
    "\n",
    "    if predicted_value <= 0:\n",
    "        prediction_class = np.append(prediction_class, -1)\n",
    "        if example_class > 0:\n",
    "            class_errors += 1\n",
    "    else:\n",
    "        prediction_class = np.append(prediction_class, 1)\n",
    "        if example_class <= 0:\n",
    "            class_errors += 1"
   ]
  },
  {
   "cell_type": "code",
   "execution_count": 49,
   "metadata": {},
   "outputs": [
    {
     "name": "stdout",
     "output_type": "stream",
     "text": [
      "0.7307171853856562\n"
     ]
    }
   ],
   "source": [
    "accuracy = 1 - (class_errors/len(y_test))\n",
    "print(accuracy)"
   ]
  }
 ],
 "metadata": {
  "kernelspec": {
   "display_name": "Python 3",
   "language": "python",
   "name": "python3"
  },
  "language_info": {
   "codemirror_mode": {
    "name": "ipython",
    "version": 3
   },
   "file_extension": ".py",
   "mimetype": "text/x-python",
   "name": "python",
   "nbconvert_exporter": "python",
   "pygments_lexer": "ipython3",
   "version": "3.8.5"
  }
 },
 "nbformat": 4,
 "nbformat_minor": 4
}
