{
 "cells": [
  {
   "cell_type": "markdown",
   "metadata": {},
   "source": [
    "# Imports"
   ]
  },
  {
   "cell_type": "code",
   "execution_count": 71,
   "metadata": {},
   "outputs": [],
   "source": [
    "import math\n",
    "import pandas as pd\n",
    "import pennylane as qml\n",
    "\n",
    "from matplotlib import pyplot as plt\n",
    "from pennylane import numpy as np\n",
    "from pennylane.templates import AmplitudeEmbedding, AngleEmbedding\n",
    "from pennylane.templates.subroutines import ArbitraryUnitary\n",
    "from scipy.stats import unitary_group\n",
    "from sklearn.datasets import load_iris\n",
    "from sklearn.model_selection import train_test_split\n",
    "from sklearn.preprocessing import StandardScaler"
   ]
  },
  {
   "cell_type": "markdown",
   "metadata": {},
   "source": [
    "# Model Params"
   ]
  },
  {
   "cell_type": "code",
   "execution_count": 72,
   "metadata": {},
   "outputs": [],
   "source": [
    "np.random.seed(42)\n",
    "initial_params = np.random.random([45])\n",
    "\n",
    "CLASS_TO_IGNORE = 2  # third class, 0, 1, 2\n",
    "INITIALIZATION_METHOD = 'Angle'\n",
    "EPOCHS = 50\n",
    "TEST_SIZE = 0.2\n",
    "STEP_SIZE = 0.3\n",
    "STEPS = int((1-TEST_SIZE)*100*EPOCHS)"
   ]
  },
  {
   "cell_type": "markdown",
   "metadata": {},
   "source": [
    "# Import dataset"
   ]
  },
  {
   "cell_type": "code",
   "execution_count": 73,
   "metadata": {},
   "outputs": [],
   "source": [
    "X, y = load_iris(return_X_y=True)\n",
    "\n",
    "if CLASS_TO_IGNORE == 0:\n",
    "    # Drop first class\n",
    "    X = X[50:]\n",
    "    y = y[50:]\n",
    "    y_scaled = np.where(y == 1, -1, y)\n",
    "    y_scaled = np.where(y_scaled == 2, 1, y_scaled)\n",
    "\n",
    "elif CLASS_TO_IGNORE == 1:\n",
    "    # Drop second class\n",
    "    X = np.delete(X, range(50, 100))\n",
    "    y = np.delete(y, range(50, 100))\n",
    "    y_scaled = np.where(y == 0, -1, y)\n",
    "    y_scaled = np.where(y_scaled == 2, 1, y_scaled)\n",
    "\n",
    "else:\n",
    "    # Drop third class\n",
    "    X = X[:100]\n",
    "    y = y[:100]"
   ]
  },
  {
   "cell_type": "code",
   "execution_count": 74,
   "metadata": {},
   "outputs": [],
   "source": [
    "scaler = StandardScaler().fit(X)\n",
    "X_scaled = scaler.transform(X)\n",
    "\n",
    "X_train, X_test, y_train, y_test = train_test_split(X_scaled, y_scaled, test_size=TEST_SIZE, shuffle=True)"
   ]
  },
  {
   "cell_type": "markdown",
   "metadata": {},
   "source": [
    "# Circuit creation"
   ]
  },
  {
   "cell_type": "code",
   "execution_count": 75,
   "metadata": {},
   "outputs": [],
   "source": [
    "device = qml.device(\"default.qubit\", wires=4)"
   ]
  },
  {
   "cell_type": "code",
   "execution_count": 76,
   "metadata": {},
   "outputs": [],
   "source": [
    "@qml.qnode(device)\n",
    "def circuit(features, params):\n",
    "    # Load state\n",
    "    if INITIALIZATION_METHOD == 'Amplitude':\n",
    "        AmplitudeEmbedding(features=features, wires=range(4), normalize=True, pad_with=0.)\n",
    "    else:\n",
    "        AngleEmbedding(features=features, wires=range(4), rotation='Y')\n",
    "\n",
    "    # First layer\n",
    "    ArbitraryUnitary(params[:15], wires=[0, 1])\n",
    "    ArbitraryUnitary(params[15:30], wires=[0, 1])\n",
    "\n",
    "    # Second layer\n",
    "    ArbitraryUnitary(params[30:], wires=[0, 1])\n",
    "\n",
    "    # Measurement\n",
    "    return qml.expval(qml.PauliZ(2))"
   ]
  },
  {
   "cell_type": "markdown",
   "metadata": {},
   "source": [
    "## Circuit example"
   ]
  },
  {
   "cell_type": "code",
   "execution_count": 77,
   "metadata": {},
   "outputs": [
    {
     "name": "stdout",
     "output_type": "stream",
     "text": [
      "Inital parameters: [0.37454012 0.95071431 0.73199394 0.59865848 0.15601864 0.15599452\n",
      " 0.05808361 0.86617615 0.60111501 0.70807258 0.02058449 0.96990985\n",
      " 0.83244264 0.21233911 0.18182497 0.18340451 0.30424224 0.52475643\n",
      " 0.43194502 0.29122914 0.61185289 0.13949386 0.29214465 0.36636184\n",
      " 0.45606998 0.78517596 0.19967378 0.51423444 0.59241457 0.04645041\n",
      " 0.60754485 0.17052412 0.06505159 0.94888554 0.96563203 0.80839735\n",
      " 0.30461377 0.09767211 0.68423303 0.44015249 0.12203823 0.49517691\n",
      " 0.03438852 0.9093204  0.25877998]\n",
      "\n",
      "Example features: [ 1.29839254 -1.67737625  1.06705859  0.91406997]\n",
      "\n",
      "Expectation value: 0.48270235537449724\n",
      "\n",
      " 0: ──RY(1.3)────H──RZ(0.375)──H──RX(1.57)──RZ(0.951)──RX(-1.57)──RZ(0.732)──╭RZ(0.599)──H──────────────────────╭RZ(0.156)──H──RX(1.57)──╭RZ(0.0581)──RX(-1.57)──RX(1.57)──╭RZ(0.866)──RX(-1.57)────────────╭RZ(0.601)──H────────────────────────────────────────────────────╭RZ(0.0206)──H──────────H──╭RZ(0.97)──H──RX(1.57)──╭RZ(0.832)──RX(-1.57)──╭RZ(0.212)──H──────────RZ(0.183)──H──RX(1.57)──RZ(0.304)──RX(-1.57)──RZ(0.525)──╭RZ(0.432)──H──────────────────────╭RZ(0.612)──H──RX(1.57)──╭RZ(0.139)──RX(-1.57)──RX(1.57)──╭RZ(0.292)──RX(-1.57)────────────╭RZ(0.366)──H────────────────────────────────────────────────────╭RZ(0.785)──H──────────H──╭RZ(0.2)──H──RX(1.57)──╭RZ(0.514)──RX(-1.57)──╭RZ(0.592)──H───────────RZ(0.608)──H──RX(1.57)──RZ(0.171)──RX(-1.57)──RZ(0.0651)──╭RZ(0.949)──H──────────────────────╭RZ(0.808)──H──RX(1.57)──╭RZ(0.305)──RX(-1.57)──RX(1.57)──╭RZ(0.0977)──RX(-1.57)────────────╭RZ(0.684)──H───────────────────────────────────────────────────╭RZ(0.122)──H──────────H──╭RZ(0.495)──H──RX(1.57)──╭RZ(0.0344)──RX(-1.57)──╭RZ(0.909)─────────────┤     \n",
      " 1: ──RY(-1.68)──H───────────────────────────────────────────────────────────╰RZ(0.599)──H──H──RZ(0.156)──H──H──╰RZ(0.156)──H──H─────────╰RZ(0.0581)──H──────────RX(1.57)──╰RZ(0.866)──RX(-1.57)──RX(1.57)──╰RZ(0.601)──RX(-1.57)──RX(1.57)──RZ(0.708)──RX(-1.57)──RX(1.57)──╰RZ(0.0206)──RX(-1.57)─────╰RZ(0.97)───────────────╰RZ(0.832)─────────────╰RZ(0.212)──RZ(0.182)──H────────────────────────────────────────────────────────╰RZ(0.432)──H──H──RZ(0.291)──H──H──╰RZ(0.612)──H──H─────────╰RZ(0.139)──H──────────RX(1.57)──╰RZ(0.292)──RX(-1.57)──RX(1.57)──╰RZ(0.366)──RX(-1.57)──RX(1.57)──RZ(0.456)──RX(-1.57)──RX(1.57)──╰RZ(0.785)──RX(-1.57)─────╰RZ(0.2)───────────────╰RZ(0.514)─────────────╰RZ(0.592)──RZ(0.0465)──H─────────────────────────────────────────────────────────╰RZ(0.949)──H──H──RZ(0.966)──H──H──╰RZ(0.808)──H──H─────────╰RZ(0.305)──H──────────RX(1.57)──╰RZ(0.0977)──RX(-1.57)──RX(1.57)──╰RZ(0.684)──RX(-1.57)──RX(1.57)──RZ(0.44)──RX(-1.57)──RX(1.57)──╰RZ(0.122)──RX(-1.57)─────╰RZ(0.495)───────────────╰RZ(0.0344)─────────────╰RZ(0.909)──RZ(0.259)──┤     \n",
      " 2: ──RY(1.07)───────────────────────────────────────────────────────────────────────────────────────────────────────────────────────────────────────────────────────────────────────────────────────────────────────────────────────────────────────────────────────────────────────────────────────────────────────────────────────────────────────────────────────────────────────────────────────────────────────────────────────────────────────────────────────────────────────────────────────────────────────────────────────────────────────────────────────────────────────────────────────────────────────────────────────────────────────────────────────────────────────────────────────────────────────────────────────────────────────────────────────────────────────────────────────────────────────────────────────────────────────────────────────────────────────────────────────────────────────────────────────────────────────────────────────────────────────────────────────────────────────────────────────────────────────────────────────────────────────────────────┤ ⟨Z⟩ \n",
      " 3: ──RY(0.914)──────────────────────────────────────────────────────────────────────────────────────────────────────────────────────────────────────────────────────────────────────────────────────────────────────────────────────────────────────────────────────────────────────────────────────────────────────────────────────────────────────────────────────────────────────────────────────────────────────────────────────────────────────────────────────────────────────────────────────────────────────────────────────────────────────────────────────────────────────────────────────────────────────────────────────────────────────────────────────────────────────────────────────────────────────────────────────────────────────────────────────────────────────────────────────────────────────────────────────────────────────────────────────────────────────────────────────────────────────────────────────────────────────────────────────────────────────────────────────────────────────────────────────────────────────────────────────────────────────────────────┤     \n",
      "\n"
     ]
    }
   ],
   "source": [
    "features = X_train[0]\n",
    "print(f\"Inital parameters: {initial_params}\\n\")\n",
    "print(f\"Example features: {features}\\n\")\n",
    "print(f\"Expectation value: {circuit(features, initial_params)}\\n\")\n",
    "print(circuit.draw())"
   ]
  },
  {
   "cell_type": "markdown",
   "metadata": {},
   "source": [
    "# Training"
   ]
  },
  {
   "cell_type": "code",
   "execution_count": 78,
   "metadata": {},
   "outputs": [],
   "source": [
    "params = initial_params\n",
    "opt = qml.GradientDescentOptimizer(stepsize=STEP_SIZE)\n",
    "\n",
    "for i in range(STEPS):\n",
    "    features = X_train[i%len(X_train)]\n",
    "    expected_value = y_train[i%len(X_train)]\n",
    "\n",
    "    def cost(circuit_params):\n",
    "        value = circuit(features, circuit_params)\n",
    "        return ((expected_value - value) ** 2)/len(X_train)\n",
    "\n",
    "    params = opt.step(cost, params)"
   ]
  },
  {
   "cell_type": "code",
   "execution_count": 79,
   "metadata": {},
   "outputs": [
    {
     "name": "stdout",
     "output_type": "stream",
     "text": [
      "Optimized rotation angles: [0.37454012 0.95071431 0.73199394 0.59865848 0.15601864 0.15599452\n",
      " 0.05808361 0.86617615 0.60111501 0.70807258 0.02058449 0.96990985\n",
      " 0.83244264 0.21233911 0.18182497 0.18340451 0.30424224 0.52475643\n",
      " 0.43194502 0.29122914 0.61185289 0.13949386 0.29214465 0.36636184\n",
      " 0.45606998 0.78517596 0.19967378 0.51423444 0.59241457 0.04645041\n",
      " 0.60754485 0.17052412 0.06505159 0.94888554 0.96563203 0.80839735\n",
      " 0.30461377 0.09767211 0.68423303 0.44015249 0.12203823 0.49517691\n",
      " 0.03438852 0.9093204  0.25877998]\n"
     ]
    }
   ],
   "source": [
    "print(\"Optimized rotation angles: {}\".format(params))"
   ]
  },
  {
   "cell_type": "markdown",
   "metadata": {},
   "source": [
    "# Testing"
   ]
  },
  {
   "cell_type": "code",
   "execution_count": 80,
   "metadata": {},
   "outputs": [],
   "source": [
    "prediction_class = np.array([])\n",
    "prediction_values = np.array([])\n",
    "for example, example_class in zip(X_test, y_test):\n",
    "    predicted_value = circuit(example, params)\n",
    "    prediction_values = np.append(prediction_values, predicted_value)\n",
    "\n",
    "    if predicted_value <= 0:\n",
    "        prediction_class = np.append(prediction_class, -1)\n",
    "    else:\n",
    "        prediction_class = np.append(prediction_class, 1)"
   ]
  },
  {
   "cell_type": "code",
   "execution_count": 81,
   "metadata": {},
   "outputs": [
    {
     "data": {
      "text/plain": [
       "<matplotlib.lines.Line2D at 0x7efdac723cd0>"
      ]
     },
     "execution_count": 81,
     "metadata": {},
     "output_type": "execute_result"
    },
    {
     "data": {
      "image/png": "[encoded data removed]",
      "text/plain": [
       "<Figure size 432x288 with 1 Axes>"
      ]
     },
     "metadata": {
      "needs_background": "light"
     },
     "output_type": "display_data"
    }
   ],
   "source": [
    "plt.xlim([-1, 20])\n",
    "plt.plot(y_test, 'o')\n",
    "plt.plot(prediction_values, 'x')\n",
    "plt.axhline(y=0, color='r', linestyle='-')"
   ]
  },
  {
   "cell_type": "code",
   "execution_count": null,
   "metadata": {},
   "outputs": [],
   "source": []
  }
 ],
 "metadata": {
  "kernelspec": {
   "display_name": "Python 3",
   "language": "python",
   "name": "python3"
  },
  "language_info": {
   "codemirror_mode": {
    "name": "ipython",
    "version": 3
   },
   "file_extension": ".py",
   "mimetype": "text/x-python",
   "name": "python",
   "nbconvert_exporter": "python",
   "pygments_lexer": "ipython3",
   "version": "3.8.5"
  }
 },
 "nbformat": 4,
 "nbformat_minor": 4
}
