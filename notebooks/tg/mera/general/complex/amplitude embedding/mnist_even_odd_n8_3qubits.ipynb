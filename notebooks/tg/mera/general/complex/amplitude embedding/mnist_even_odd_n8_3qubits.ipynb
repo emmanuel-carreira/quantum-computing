{
 "cells": [
  {
   "cell_type": "markdown",
   "metadata": {},
   "source": [
    "# Imports"
   ]
  },
  {
   "cell_type": "code",
   "execution_count": 23,
   "metadata": {},
   "outputs": [],
   "source": [
    "import math\n",
    "import pandas as pd\n",
    "import pennylane as qml\n",
    "import time\n",
    "\n",
    "from matplotlib import pyplot as plt\n",
    "from pennylane import numpy as np\n",
    "from pennylane.templates import AmplitudeEmbedding, AngleEmbedding\n",
    "from pennylane.templates.subroutines import ArbitraryUnitary\n",
    "from sklearn.datasets import load_iris\n",
    "from sklearn.decomposition import PCA\n",
    "from sklearn.model_selection import train_test_split\n",
    "from sklearn.preprocessing import StandardScaler"
   ]
  },
  {
   "cell_type": "markdown",
   "metadata": {},
   "source": [
    "# Model Params"
   ]
  },
  {
   "cell_type": "code",
   "execution_count": 24,
   "metadata": {},
   "outputs": [],
   "source": [
    "np.random.seed(42)\n",
    "initial_params = np.random.random([45])\n",
    "\n",
    "INITIALIZATION_METHOD = 'Amplitude'\n",
    "BATCH_SIZE = 20\n",
    "EPOCHS = 400\n",
    "\n",
    "STEP_SIZE = 0.01\n",
    "BETA_1 = 0.9\n",
    "BETA_2 = 0.99\n",
    "EPSILON = 0.00000001\n",
    "\n",
    "TRAINING_SIZE = 0.78\n",
    "VALIDATION_SIZE = 0.07\n",
    "TEST_SIZE = 1-TRAINING_SIZE-VALIDATION_SIZE\n",
    "\n",
    "initial_time = time.time()"
   ]
  },
  {
   "cell_type": "markdown",
   "metadata": {},
   "source": [
    "# Fetch Dataset"
   ]
  },
  {
   "cell_type": "code",
   "execution_count": null,
   "metadata": {},
   "outputs": [],
   "source": [
    "from sklearn.datasets import fetch_openml\n",
    "mnist = fetch_openml('mnist_784')"
   ]
  },
  {
   "cell_type": "markdown",
   "metadata": {},
   "source": [
    "# Import dataset"
   ]
  },
  {
   "cell_type": "code",
   "execution_count": null,
   "metadata": {},
   "outputs": [],
   "source": [
    "examples = mnist.data\n",
    "classes = mnist.target\n",
    "\n",
    "x = []\n",
    "y = []\n",
    "for (example, label) in zip(examples, classes):\n",
    "    if label in [\"0\", \"2\", \"4\", \"6\", \"8\"]:\n",
    "        x.append(example)\n",
    "        y.append(-1)\n",
    "    else:\n",
    "        x.append(example)\n",
    "        y.append(1)"
   ]
  },
  {
   "cell_type": "code",
   "execution_count": null,
   "metadata": {},
   "outputs": [],
   "source": [
    "x = np.array(x)\n",
    "y = np.array(y)\n",
    "\n",
    "# Normalize pixels values\n",
    "x = x / 255\n",
    "\n",
    "X_train, X_test, y_train, y_test = train_test_split(x, y, test_size=TEST_SIZE, shuffle=True)"
   ]
  },
  {
   "cell_type": "code",
   "execution_count": null,
   "metadata": {},
   "outputs": [],
   "source": [
    "validation_indexes = np.random.random_integers(len(X_train), size=(math.floor(len(X_train)*VALIDATION_SIZE),))\n",
    "X_validation = [X_train[n] for n in validation_indexes]\n",
    "y_validation = [y_train[n] for n in validation_indexes]"
   ]
  },
  {
   "cell_type": "code",
   "execution_count": null,
   "metadata": {},
   "outputs": [],
   "source": [
    "pca = PCA(n_components=8)\n",
    "pca.fit(X_train)\n",
    "X_train = pca.transform(X_train)\n",
    "X_validation = pca.transform(X_validation)\n",
    "X_test = pca.transform(X_test)\n",
    "\n",
    "preprocessing_time = time.time()"
   ]
  },
  {
   "cell_type": "markdown",
   "metadata": {},
   "source": [
    "# Circuit creation"
   ]
  },
  {
   "cell_type": "code",
   "execution_count": null,
   "metadata": {},
   "outputs": [],
   "source": [
    "device = qml.device(\"default.qubit\", wires=3)"
   ]
  },
  {
   "cell_type": "code",
   "execution_count": null,
   "metadata": {},
   "outputs": [],
   "source": [
    "@qml.qnode(device)\n",
    "def circuit(features, params):\n",
    "    # Load state\n",
    "    if INITIALIZATION_METHOD == 'Amplitude':\n",
    "        AmplitudeEmbedding(features=features, wires=range(3), normalize=True, pad_with=0.)\n",
    "    else:\n",
    "        AngleEmbedding(features=features, wires=range(8), rotation='Y')\n",
    "\n",
    "    # First layer\n",
    "    ArbitraryUnitary(params[:15], wires=[1, 2])\n",
    "\n",
    "    # Second layer\n",
    "    ArbitraryUnitary(params[15:30], wires=[0, 1])\n",
    "\n",
    "    # Third layer\n",
    "    ArbitraryUnitary(params[30:45], wires=[1, 2])\n",
    "\n",
    "    # Measurement\n",
    "    return qml.expval(qml.PauliZ(2))"
   ]
  },
  {
   "cell_type": "markdown",
   "metadata": {},
   "source": [
    "## Circuit example"
   ]
  },
  {
   "cell_type": "code",
   "execution_count": null,
   "metadata": {},
   "outputs": [],
   "source": [
    "features = X_train[0]\n",
    "print(f\"Inital parameters: {initial_params}\\n\")\n",
    "print(f\"Example features: {features}\\n\")\n",
    "print(f\"Expectation value: {circuit(features, initial_params)}\\n\")\n",
    "print(circuit.draw())"
   ]
  },
  {
   "cell_type": "markdown",
   "metadata": {},
   "source": [
    "# Accuracy test definition"
   ]
  },
  {
   "cell_type": "code",
   "execution_count": null,
   "metadata": {},
   "outputs": [],
   "source": [
    "def measure_accuracy(x, y, circuit_params):\n",
    "    class_errors = 0\n",
    "\n",
    "    for example, example_class in zip(x, y):\n",
    "        predicted_value = circuit(example, circuit_params)\n",
    "\n",
    "        if (example_class > 0 and predicted_value <= 0) or (example_class <= 0 and predicted_value > 0):\n",
    "            class_errors += 1\n",
    "\n",
    "    return 1 - (class_errors/len(y))"
   ]
  },
  {
   "cell_type": "markdown",
   "metadata": {},
   "source": [
    "# Training"
   ]
  },
  {
   "cell_type": "code",
   "execution_count": null,
   "metadata": {
    "scrolled": true
   },
   "outputs": [],
   "source": [
    "params = initial_params\n",
    "opt = qml.AdamOptimizer(stepsize=STEP_SIZE, beta1=BETA_1, beta2=BETA_2, eps=EPSILON)\n",
    "test_accuracies = []\n",
    "\n",
    "for i in range(len(X_train)):\n",
    "    features = X_train[i]\n",
    "    expected_value = y_train[i]\n",
    "\n",
    "    def cost(circuit_params):\n",
    "        value = circuit(features, circuit_params)\n",
    "        return ((expected_value - value) ** 2)/len(X_train)\n",
    "\n",
    "    params = opt.step(cost, params)\n",
    "\n",
    "    if i % BATCH_SIZE == 0:\n",
    "        print(f\"epoch {i//BATCH_SIZE}\")\n",
    "    \n",
    "    if i % (10*BATCH_SIZE) == 0:\n",
    "        current_accuracy = measure_accuracy(X_validation, y_validation, params)\n",
    "        test_accuracies.append(current_accuracy)\n",
    "        print(f\"accuracy: {current_accuracy}\")\n",
    "\n",
    "    if len(test_accuracies) == 30:\n",
    "        print(f\"test_accuracies: {test_accuracies}\")\n",
    "\n",
    "        if np.allclose(test_accuracies, 30*[test_accuracies[-1]]):\n",
    "            break\n",
    "\n",
    "        del test_accuracies[0]"
   ]
  },
  {
   "cell_type": "code",
   "execution_count": null,
   "metadata": {},
   "outputs": [],
   "source": [
    "print(\"Optimized rotation angles: {}\".format(params))\n",
    "\n",
    "training_time = time.time()"
   ]
  },
  {
   "cell_type": "markdown",
   "metadata": {},
   "source": [
    "# Testing"
   ]
  },
  {
   "cell_type": "code",
   "execution_count": null,
   "metadata": {},
   "outputs": [],
   "source": [
    "accuracy = measure_accuracy(X_test, y_test, params)\n",
    "print(accuracy)\n",
    "\n",
    "test_time = time.time()"
   ]
  },
  {
   "cell_type": "code",
   "execution_count": null,
   "metadata": {},
   "outputs": [],
   "source": [
    "print(f\"pre-processing time: {preprocessing_time-initial_time}\")\n",
    "print(f\"training time: {training_time - preprocessing_time}\")\n",
    "print(f\"test time: {test_time - training_time}\")\n",
    "print(f\"total time: {test_time - initial_time}\")"
   ]
  }
 ],
 "metadata": {
  "kernelspec": {
   "display_name": "Python 3",
   "language": "python",
   "name": "python3"
  },
  "language_info": {
   "codemirror_mode": {
    "name": "ipython",
    "version": 3
   },
   "file_extension": ".py",
   "mimetype": "text/x-python",
   "name": "python",
   "nbconvert_exporter": "python",
   "pygments_lexer": "ipython3",
   "version": "3.8.5"
  }
 },
 "nbformat": 4,
 "nbformat_minor": 4
}
