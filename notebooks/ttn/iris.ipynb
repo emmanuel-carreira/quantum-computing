{
 "cells": [
  {
   "cell_type": "markdown",
   "metadata": {},
   "source": [
    "# Imports"
   ]
  },
  {
   "cell_type": "code",
   "execution_count": 295,
   "metadata": {},
   "outputs": [],
   "source": [
    "import pandas as pd\n",
    "import pennylane as qml\n",
    "from pennylane import numpy as np\n",
    "from pennylane.templates import AmplitudeEmbedding"
   ]
  },
  {
   "cell_type": "markdown",
   "metadata": {},
   "source": [
    "# Utils"
   ]
  },
  {
   "cell_type": "code",
   "execution_count": 296,
   "metadata": {},
   "outputs": [],
   "source": [
    "class_to_prediction = {\n",
    "    'Setosa': 0.33333,\n",
    "    'Versicolor': 0.66667,\n",
    "    'Virginica': 1.00000,\n",
    "}"
   ]
  },
  {
   "cell_type": "markdown",
   "metadata": {},
   "source": [
    "# Model Params"
   ]
  },
  {
   "cell_type": "code",
   "execution_count": 297,
   "metadata": {},
   "outputs": [],
   "source": [
    "np.random.seed(42)\n",
    "initial_params = np.random.random([7])\n",
    "\n",
    "variety_to_ignore = 'Versicolor'\n",
    "\n",
    "steps = 6000\n",
    "step_size = 0.3"
   ]
  },
  {
   "cell_type": "markdown",
   "metadata": {},
   "source": [
    "# Import training dataset"
   ]
  },
  {
   "cell_type": "code",
   "execution_count": 298,
   "metadata": {},
   "outputs": [],
   "source": [
    "columns = ['sepal.length', 'sepal.width', 'petal.length', 'petal.width']\n",
    "dataset = pd.read_csv('iris_train.csv', usecols=columns)\n",
    "dataset_class = pd.read_csv('iris_train.csv', usecols=['variety', 'variety.class'])"
   ]
  },
  {
   "cell_type": "code",
   "execution_count": 299,
   "metadata": {},
   "outputs": [
    {
     "name": "stdout",
     "output_type": "stream",
     "text": [
      "     sepal.length  sepal.width  petal.length  petal.width\n",
      "0             5.1          3.5           1.4          0.2\n",
      "1             4.9          3.0           1.4          0.2\n",
      "2             4.7          3.2           1.3          0.2\n",
      "3             4.6          3.1           1.5          0.2\n",
      "4             5.0          3.6           1.4          0.2\n",
      "..            ...          ...           ...          ...\n",
      "115           7.7          3.0           6.1          2.3\n",
      "116           6.3          3.4           5.6          2.4\n",
      "117           6.4          3.1           5.5          1.8\n",
      "118           6.0          3.0           4.8          1.8\n",
      "119           6.9          3.1           5.4          2.1\n",
      "\n",
      "[80 rows x 4 columns]\n"
     ]
    }
   ],
   "source": [
    "dataset = dataset.drop(dataset[dataset_class.variety == variety_to_ignore].index)\n",
    "print(dataset)\n",
    "dataset = dataset.values.tolist()"
   ]
  },
  {
   "cell_type": "code",
   "execution_count": 300,
   "metadata": {},
   "outputs": [
    {
     "name": "stdout",
     "output_type": "stream",
     "text": [
      "       variety  variety.class\n",
      "0       Setosa       0.333333\n",
      "1       Setosa       0.333333\n",
      "2       Setosa       0.333333\n",
      "3       Setosa       0.333333\n",
      "4       Setosa       0.333333\n",
      "..         ...            ...\n",
      "115  Virginica       1.000000\n",
      "116  Virginica       1.000000\n",
      "117  Virginica       1.000000\n",
      "118  Virginica       1.000000\n",
      "119  Virginica       1.000000\n",
      "\n",
      "[80 rows x 2 columns]\n"
     ]
    }
   ],
   "source": [
    "dataset_class['variety.class'] = dataset_class['variety.class'] / dataset_class['variety.class'].max()\n",
    "dataset_class = dataset_class.drop(dataset_class[dataset_class.variety == variety_to_ignore].index)\n",
    "print(dataset_class)\n",
    "dataset_class = dataset_class.values.tolist()"
   ]
  },
  {
   "cell_type": "markdown",
   "metadata": {},
   "source": [
    "# Circuit creation"
   ]
  },
  {
   "cell_type": "code",
   "execution_count": 301,
   "metadata": {},
   "outputs": [],
   "source": [
    "device = qml.device(\"default.qubit\", wires=4)"
   ]
  },
  {
   "cell_type": "code",
   "execution_count": 302,
   "metadata": {},
   "outputs": [],
   "source": [
    "@qml.qnode(device)\n",
    "def circuit(features, params):\n",
    "    # Load state\n",
    "    AmplitudeEmbedding(features=features, wires=range(4), normalize=True, pad_with=0.)\n",
    "\n",
    "    # First layer\n",
    "    qml.RY(params[0], wires=0)\n",
    "    qml.RY(params[1], wires=1)\n",
    "    qml.RY(params[2], wires=2)\n",
    "    qml.RY(params[3], wires=3)\n",
    "    qml.CNOT(wires=[0, 1])\n",
    "    qml.CNOT(wires=[3, 2])\n",
    "\n",
    "    # Second layer\n",
    "    qml.RY(params[4], wires=1)\n",
    "    qml.RY(params[5], wires=2)\n",
    "    qml.CNOT(wires=[1, 2])\n",
    "\n",
    "    # Third layer\n",
    "    qml.RY(params[6], wires=2)\n",
    "\n",
    "    # Measurement\n",
    "    return qml.expval(qml.PauliZ(2))"
   ]
  },
  {
   "cell_type": "code",
   "execution_count": 303,
   "metadata": {},
   "outputs": [
    {
     "name": "stdout",
     "output_type": "stream",
     "text": [
      "Inital parameters: [0.37454012 0.95071431 0.73199394 0.59865848 0.15601864 0.15599452\n",
      " 0.05808361]\n",
      "\n",
      "Example features: [5.1, 3.5, 1.4, 0.2]\n",
      "\n",
      "Expectation value: -0.20621869264768833\n",
      "\n",
      " 0: ──╭QubitStateVector(M0)──RY(0.375)──╭C─────────────────────────────┤     \n",
      " 1: ──├QubitStateVector(M0)──RY(0.951)──╰X──RY(0.156)──╭C──────────────┤     \n",
      " 2: ──├QubitStateVector(M0)──RY(0.732)──╭X──RY(0.156)──╰X──RY(0.0581)──┤ ⟨Z⟩ \n",
      " 3: ──╰QubitStateVector(M0)──RY(0.599)──╰C─────────────────────────────┤     \n",
      "M0 =\n",
      "[0.80377277+0.j 0.55160877+0.j 0.22064351+0.j 0.0315205 +0.j\n",
      " 0.        +0.j 0.        +0.j 0.        +0.j 0.        +0.j\n",
      " 0.        +0.j 0.        +0.j 0.        +0.j 0.        +0.j\n",
      " 0.        +0.j 0.        +0.j 0.        +0.j 0.        +0.j]\n",
      "\n"
     ]
    }
   ],
   "source": [
    "features = dataset[0]\n",
    "print(f\"Inital parameters: {initial_params}\\n\")\n",
    "print(f\"Example features: {features}\\n\")\n",
    "print(f\"Expectation value: {circuit(features, initial_params)}\\n\")\n",
    "print(circuit.draw())"
   ]
  },
  {
   "cell_type": "markdown",
   "metadata": {},
   "source": [
    "# Training"
   ]
  },
  {
   "cell_type": "code",
   "execution_count": 304,
   "metadata": {},
   "outputs": [],
   "source": [
    "params = initial_params\n",
    "opt = qml.GradientDescentOptimizer(stepsize=step_size)\n",
    "\n",
    "for i in range(steps):\n",
    "    features = dataset[i%len(dataset)]\n",
    "    expected_value = dataset_class[i%len(dataset)][1]\n",
    "\n",
    "    def cost(circuit_params):\n",
    "        value = circuit(features, circuit_params)\n",
    "        return ((expected_value - value) ** 2)/len(dataset)\n",
    "\n",
    "    params = opt.step(cost, params)"
   ]
  },
  {
   "cell_type": "code",
   "execution_count": 305,
   "metadata": {},
   "outputs": [
    {
     "name": "stdout",
     "output_type": "stream",
     "text": [
      "Optimized rotation angles: [ 0.38582274  0.99765005 -0.04614791  0.70551516  0.20574168 -0.03387391\n",
      " -1.36623302]\n"
     ]
    }
   ],
   "source": [
    "print(\"Optimized rotation angles: {}\".format(params))"
   ]
  },
  {
   "cell_type": "markdown",
   "metadata": {},
   "source": [
    "# Import testing dataset"
   ]
  },
  {
   "cell_type": "code",
   "execution_count": 306,
   "metadata": {},
   "outputs": [],
   "source": [
    "dataset_test = pd.read_csv('iris_test.csv', usecols=columns)\n",
    "dataset_class_test = pd.read_csv('iris_test.csv', usecols=['variety', 'variety.class'])"
   ]
  },
  {
   "cell_type": "code",
   "execution_count": 307,
   "metadata": {},
   "outputs": [
    {
     "name": "stdout",
     "output_type": "stream",
     "text": [
      "    sepal.length  sepal.width  petal.length  petal.width\n",
      "0            5.0          3.5           1.3          0.3\n",
      "1            4.5          2.3           1.3          0.3\n",
      "2            4.4          3.2           1.3          0.2\n",
      "3            5.0          3.5           1.6          0.6\n",
      "4            5.1          3.8           1.9          0.4\n",
      "5            4.8          3.0           1.4          0.3\n",
      "6            5.1          3.8           1.6          0.2\n",
      "7            4.6          3.2           1.4          0.2\n",
      "8            5.3          3.7           1.5          0.2\n",
      "9            5.0          3.3           1.4          0.2\n",
      "20           6.7          3.1           5.6          2.4\n",
      "21           6.9          3.1           5.1          2.3\n",
      "22           5.8          2.7           5.1          1.9\n",
      "23           6.8          3.2           5.9          2.3\n",
      "24           6.7          3.3           5.7          2.5\n",
      "25           6.7          3.0           5.2          2.3\n",
      "26           6.3          2.5           5.0          1.9\n",
      "27           6.5          3.0           5.2          2.0\n",
      "28           6.2          3.4           5.4          2.3\n",
      "29           5.9          3.0           5.1          1.8\n"
     ]
    }
   ],
   "source": [
    "dataset_test = dataset_test.drop(dataset_test[dataset_class_test.variety == variety_to_ignore].index)\n",
    "print(dataset_test)\n",
    "dataset_test = dataset_test.values.tolist()"
   ]
  },
  {
   "cell_type": "code",
   "execution_count": 308,
   "metadata": {},
   "outputs": [
    {
     "name": "stdout",
     "output_type": "stream",
     "text": [
      "      variety  variety.class\n",
      "0      Setosa       0.333333\n",
      "1      Setosa       0.333333\n",
      "2      Setosa       0.333333\n",
      "3      Setosa       0.333333\n",
      "4      Setosa       0.333333\n",
      "5      Setosa       0.333333\n",
      "6      Setosa       0.333333\n",
      "7      Setosa       0.333333\n",
      "8      Setosa       0.333333\n",
      "9      Setosa       0.333333\n",
      "20  Virginica       1.000000\n",
      "21  Virginica       1.000000\n",
      "22  Virginica       1.000000\n",
      "23  Virginica       1.000000\n",
      "24  Virginica       1.000000\n",
      "25  Virginica       1.000000\n",
      "26  Virginica       1.000000\n",
      "27  Virginica       1.000000\n",
      "28  Virginica       1.000000\n",
      "29  Virginica       1.000000\n"
     ]
    }
   ],
   "source": [
    "dataset_class_test['variety.class'] = dataset_class_test['variety.class'] / dataset_class_test['variety.class'].max()\n",
    "dataset_class_test = dataset_class_test.drop(dataset_class_test[dataset_class_test.variety == variety_to_ignore].index)\n",
    "print(dataset_class_test)\n",
    "dataset_class_test = dataset_class_test.values.tolist()"
   ]
  },
  {
   "cell_type": "markdown",
   "metadata": {},
   "source": [
    "# Testing"
   ]
  },
  {
   "cell_type": "code",
   "execution_count": 309,
   "metadata": {},
   "outputs": [],
   "source": [
    "limit_setosa_versicolor = (class_to_prediction['Setosa'] + class_to_prediction['Versicolor']) / 2\n",
    "limit_versicolor_virginica = (class_to_prediction['Versicolor'] + class_to_prediction['Virginica']) / 2"
   ]
  },
  {
   "cell_type": "code",
   "execution_count": 310,
   "metadata": {},
   "outputs": [],
   "source": [
    "for index in range(len(dataset_test)):\n",
    "    expected_class = dataset_class_test[index][0]\n",
    "    expected_value = dataset_class_test[index][1]\n",
    "\n",
    "    features = dataset_test[index]\n",
    "    value = circuit(features, params)\n",
    "    diff = np.sqrt((expected_value - value) ** 2)\n",
    "\n",
    "    if value < limit_setosa_versicolor:\n",
    "        predicted_class = 'Setosa'\n",
    "    elif value > limit_versicolor_virginica:\n",
    "        predicted_class = 'Virginica'\n",
    "    else:\n",
    "        predicted_class = 'Versicolor'\n",
    "\n",
    "    if predicted_class != expected_class:\n",
    "        print(f'Error in prediction. Expected class: {expected_class}. Predicted_class: {predicted_class}')\n",
    "        print(f'MSE: {diff}')"
   ]
  },
  {
   "cell_type": "code",
   "execution_count": 311,
   "metadata": {},
   "outputs": [],
   "source": [
    "class_to_prediction = {\n",
    "    'Setosa': 0.33333,\n",
    "    'Versicolor': 0.66667,\n",
    "    'Virginica': 1.00000,\n",
    "}\n",
    "\n",
    "del class_to_prediction[variety_to_ignore]"
   ]
  },
  {
   "cell_type": "code",
   "execution_count": 312,
   "metadata": {},
   "outputs": [],
   "source": [
    "for index in range(len(dataset_test)):\n",
    "    expected_class = dataset_class_test[index][0]\n",
    "    expected_value = dataset_class_test[index][1]\n",
    "\n",
    "    features = dataset_test[index]\n",
    "    value = circuit(features, params)\n",
    "\n",
    "    predicted_class = ''\n",
    "    current_diff = 10000000000000000000\n",
    "    for iris_class, prediction_value in class_to_prediction.items():\n",
    "        class_diff = np.sqrt((prediction_value - value) ** 2)\n",
    "        if class_diff > current_diff:\n",
    "            continue\n",
    "\n",
    "        predicted_class = iris_class\n",
    "        current_diff = class_diff\n",
    "\n",
    "    if predicted_class != expected_class:\n",
    "        print(f'Error in prediction. Expected class: {expected_class}. Predicted_class: {predicted_class}')\n",
    "        print(f'MSE: {current_diff}')"
   ]
  },
  {
   "cell_type": "code",
   "execution_count": null,
   "metadata": {},
   "outputs": [],
   "source": []
  }
 ],
 "metadata": {
  "kernelspec": {
   "display_name": "Python 3",
   "language": "python",
   "name": "python3"
  },
  "language_info": {
   "codemirror_mode": {
    "name": "ipython",
    "version": 3
   },
   "file_extension": ".py",
   "mimetype": "text/x-python",
   "name": "python",
   "nbconvert_exporter": "python",
   "pygments_lexer": "ipython3",
   "version": "3.8.5"
  }
 },
 "nbformat": 4,
 "nbformat_minor": 4
}
