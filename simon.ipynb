{
 "cells": [
  {
   "cell_type": "code",
   "execution_count": 122,
   "metadata": {},
   "outputs": [],
   "source": [
    "import numpy as np\n",
    "from qiskit import Aer, execute, ClassicalRegister, QuantumCircuit, QuantumRegister"
   ]
  },
  {
   "cell_type": "markdown",
   "metadata": {},
   "source": [
    "Set the **string size** in the following line:"
   ]
  },
  {
   "cell_type": "code",
   "execution_count": 123,
   "metadata": {},
   "outputs": [],
   "source": [
    "N = 5"
   ]
  },
  {
   "cell_type": "code",
   "execution_count": 124,
   "metadata": {},
   "outputs": [],
   "source": [
    "def hadamard_n(circuit, q_regs):\n",
    "    for i in range(N):\n",
    "        circuit.h(q_regs[i])\n",
    "\n",
    "    return circuit"
   ]
  },
  {
   "cell_type": "code",
   "execution_count": 125,
   "metadata": {},
   "outputs": [],
   "source": [
    "def uf(circuit, q_regs):\n",
    "    for i in range(N):\n",
    "        circuit.cx(q_regs[i], q_regs[i+N])\n",
    "    return circuit"
   ]
  },
  {
   "cell_type": "code",
   "execution_count": 126,
   "metadata": {},
   "outputs": [],
   "source": [
    "def measure_n(circuit, q_regs, c_regs):\n",
    "    for i in range(N):\n",
    "        circuit.measure(q_regs[i], c_regs[i])\n",
    "    return circuit"
   ]
  },
  {
   "cell_type": "code",
   "execution_count": 127,
   "metadata": {},
   "outputs": [],
   "source": [
    "def simon():\n",
    "    q_regs = QuantumRegister(2*N, 'q')\n",
    "    c_regs = ClassicalRegister(N, 'c')\n",
    "    circuit = QuantumCircuit(q_regs, c_regs)\n",
    "\n",
    "    circuit = hadamard_n(circuit, q_regs[0:N])\n",
    "    circuit = uf(circuit, q_regs)\n",
    "    circuit = hadamard_n(circuit, q_regs[0:N])\n",
    "    circuit = measure_n(circuit, q_regs[0:N], c_regs)\n",
    "\n",
    "    return circuit"
   ]
  },
  {
   "cell_type": "code",
   "execution_count": 128,
   "metadata": {},
   "outputs": [
    {
     "data": {
      "text/html": [
       "<pre style=\"word-wrap: normal;white-space: pre;background: #fff0;line-height: 1.1;font-family: &quot;Courier New&quot;,Courier,monospace\">     ┌───┐     ┌───┐                    ┌─┐            \n",
       "q_0: ┤ H ├──■──┤ H ├────────────────────┤M├────────────\n",
       "     ├───┤  │  └───┘┌───┐               └╥┘┌─┐         \n",
       "q_1: ┤ H ├──┼────■──┤ H ├────────────────╫─┤M├─────────\n",
       "     ├───┤  │    │  └───┘┌───┐           ║ └╥┘┌─┐      \n",
       "q_2: ┤ H ├──┼────┼────■──┤ H ├───────────╫──╫─┤M├──────\n",
       "     ├───┤  │    │    │  └───┘┌───┐      ║  ║ └╥┘┌─┐   \n",
       "q_3: ┤ H ├──┼────┼────┼────■──┤ H ├──────╫──╫──╫─┤M├───\n",
       "     ├───┤  │    │    │    │  └───┘┌───┐ ║  ║  ║ └╥┘┌─┐\n",
       "q_4: ┤ H ├──┼────┼────┼────┼────■──┤ H ├─╫──╫──╫──╫─┤M├\n",
       "     └───┘┌─┴─┐  │    │    │    │  └───┘ ║  ║  ║  ║ └╥┘\n",
       "q_5: ─────┤ X ├──┼────┼────┼────┼────────╫──╫──╫──╫──╫─\n",
       "          └───┘┌─┴─┐  │    │    │        ║  ║  ║  ║  ║ \n",
       "q_6: ──────────┤ X ├──┼────┼────┼────────╫──╫──╫──╫──╫─\n",
       "               └───┘┌─┴─┐  │    │        ║  ║  ║  ║  ║ \n",
       "q_7: ───────────────┤ X ├──┼────┼────────╫──╫──╫──╫──╫─\n",
       "                    └───┘┌─┴─┐  │        ║  ║  ║  ║  ║ \n",
       "q_8: ────────────────────┤ X ├──┼────────╫──╫──╫──╫──╫─\n",
       "                         └───┘┌─┴─┐      ║  ║  ║  ║  ║ \n",
       "q_9: ─────────────────────────┤ X ├──────╫──╫──╫──╫──╫─\n",
       "                              └───┘      ║  ║  ║  ║  ║ \n",
       "c: 5/════════════════════════════════════╩══╩══╩══╩══╩═\n",
       "                                         0  1  2  3  4 </pre>"
      ],
      "text/plain": [
       "     ┌───┐     ┌───┐                    ┌─┐            \n",
       "q_0: ┤ H ├──■──┤ H ├────────────────────┤M├────────────\n",
       "     ├───┤  │  └───┘┌───┐               └╥┘┌─┐         \n",
       "q_1: ┤ H ├──┼────■──┤ H ├────────────────╫─┤M├─────────\n",
       "     ├───┤  │    │  └───┘┌───┐           ║ └╥┘┌─┐      \n",
       "q_2: ┤ H ├──┼────┼────■──┤ H ├───────────╫──╫─┤M├──────\n",
       "     ├───┤  │    │    │  └───┘┌───┐      ║  ║ └╥┘┌─┐   \n",
       "q_3: ┤ H ├──┼────┼────┼────■──┤ H ├──────╫──╫──╫─┤M├───\n",
       "     ├───┤  │    │    │    │  └───┘┌───┐ ║  ║  ║ └╥┘┌─┐\n",
       "q_4: ┤ H ├──┼────┼────┼────┼────■──┤ H ├─╫──╫──╫──╫─┤M├\n",
       "     └───┘┌─┴─┐  │    │    │    │  └───┘ ║  ║  ║  ║ └╥┘\n",
       "q_5: ─────┤ X ├──┼────┼────┼────┼────────╫──╫──╫──╫──╫─\n",
       "          └───┘┌─┴─┐  │    │    │        ║  ║  ║  ║  ║ \n",
       "q_6: ──────────┤ X ├──┼────┼────┼────────╫──╫──╫──╫──╫─\n",
       "               └───┘┌─┴─┐  │    │        ║  ║  ║  ║  ║ \n",
       "q_7: ───────────────┤ X ├──┼────┼────────╫──╫──╫──╫──╫─\n",
       "                    └───┘┌─┴─┐  │        ║  ║  ║  ║  ║ \n",
       "q_8: ────────────────────┤ X ├──┼────────╫──╫──╫──╫──╫─\n",
       "                         └───┘┌─┴─┐      ║  ║  ║  ║  ║ \n",
       "q_9: ─────────────────────────┤ X ├──────╫──╫──╫──╫──╫─\n",
       "                              └───┘      ║  ║  ║  ║  ║ \n",
       "c: 5/════════════════════════════════════╩══╩══╩══╩══╩═\n",
       "                                         0  1  2  3  4 "
      ]
     },
     "execution_count": 128,
     "metadata": {},
     "output_type": "execute_result"
    }
   ],
   "source": [
    "circuit = simon()\n",
    "circuit.draw()"
   ]
  },
  {
   "cell_type": "code",
   "execution_count": 129,
   "metadata": {},
   "outputs": [],
   "source": [
    "backend = Aer.get_backend('statevector_simulator')\n",
    "\n",
    "strings = []\n",
    "for i in range(N):\n",
    "    job = execute(circuit, backend)\n",
    "    result = job.result()\n",
    "    string = result.get_counts()\n",
    "    strings += [s for s in string.keys()]"
   ]
  },
  {
   "cell_type": "markdown",
   "metadata": {},
   "source": [
    "N strings of size N:"
   ]
  },
  {
   "cell_type": "code",
   "execution_count": 130,
   "metadata": {},
   "outputs": [
    {
     "name": "stdout",
     "output_type": "stream",
     "text": [
      "['01011', '10000', '10100', '11101', '10100']\n"
     ]
    }
   ],
   "source": [
    "print(strings)"
   ]
  }
 ],
 "metadata": {
  "kernelspec": {
   "display_name": "Python 3",
   "language": "python",
   "name": "python3"
  },
  "language_info": {
   "codemirror_mode": {
    "name": "ipython",
    "version": 3
   },
   "file_extension": ".py",
   "mimetype": "text/x-python",
   "name": "python",
   "nbconvert_exporter": "python",
   "pygments_lexer": "ipython3",
   "version": "3.8.5"
  }
 },
 "nbformat": 4,
 "nbformat_minor": 4
}
